{
 "cells": [
  {
   "cell_type": "code",
   "execution_count": null,
   "metadata": {},
   "outputs": [],
   "source": [
    "import numpy as np\n",
    "import matplotlib.pyplot as plt\n",
    "from matplotlib.ticker import FormatStrFormatter\n",
    "import seaborn as sns"
   ]
  },
  {
   "cell_type": "code",
   "execution_count": null,
   "metadata": {},
   "outputs": [],
   "source": [
    "folder_name = 'Training results/'\n",
    "file_names = ['VGG_augm-results.txt', 'DenseNet_augm-results.txt','WRN28_augm-results.txt','WRN40_augm-results.txt']\n",
    "names = ['VGG16', 'DenseNet-121', 'WRN-28-10', 'WRN-40-10']\n",
    "\n",
    "I = 1\n",
    "J = 4\n",
    "train_color = '#ff8800'\n",
    "test_color = '#2200ff'"
   ]
  },
  {
   "cell_type": "code",
   "execution_count": null,
   "metadata": {},
   "outputs": [],
   "source": []
  },
  {
   "cell_type": "code",
   "execution_count": null,
   "metadata": {},
   "outputs": [],
   "source": [
    "fig, ax = plt.subplots(I, J, sharey=True, figsize=(16,6))\n",
    "\n",
    "# Data format: epoch accuracy testloss trainloss \n",
    "for i, f in enumerate(file_names): \n",
    "    data = np.loadtxt(folder_name+f, skiprows=1)\n",
    "    epochs = data[:,0]\n",
    "    acc = data[:,1]\n",
    "    testloss = data[:,2]*1000\n",
    "    \n",
    "    major_ticks = np.arange(0, 101, 20)\n",
    "    minor_ticks = np.arange(0, 101, 5)\n",
    "\n",
    "    ax[i].set_yticks(np.arange(0, 101, 10))\n",
    "    ax[i].set_yticks(np.arange(0, 101, 100), minor=True)\n",
    "    ax[i].set_xticks(np.arange(0, 301, 50))\n",
    "    ax[i].set_xticks(np.arange(0, 301, 10), minor=True)\n",
    "    ax[i].set_ylim(50,100)\n",
    "    ax[i].grid(which='both')\n",
    "    ax[i].grid(which='minor', alpha=0.2)\n",
    "    ax[i].grid(which='major', alpha=0.5)\n",
    "    \n",
    "    ax[i].plot(epochs[::2], acc[::2], color=train_color)\n",
    "    \n",
    "    ax[i].set_title(names[i]+ \": Final error rate (%): {:.2f}\".format(100-np.max(acc)))\n",
    "    \n",
    "    ax0c = ax[i].twinx()\n",
    "    \n",
    "    ax0c.yaxis.set_major_formatter(FormatStrFormatter('%.1f'))\n",
    "    \n",
    "    if i < 3:\n",
    "        ax0c.axis('off')\n",
    "    # ax0c.plot(epochs, trainloss, ls=':', color=train_color, dashes=(1, 3))\n",
    "    ax0c.plot(epochs[::2], testloss[::2], ls=':', color=test_color, dashes=(1, 3))\n",
    "\n",
    "\n",
    "eps = fig.text(0.5, 0.0, 'Epochs', ha='center', va='center', fontsize=12)\n",
    "accs = fig.text(0.0, 0.5, 'Accuracy (%)', ha='center', va='center', rotation='vertical', fontsize=12)\n",
    "lss = fig.text(1, 0.5, r'Loss ($10^{-3}$)', ha='center', va='center', rotation='vertical', fontsize=12)\n",
    "fig.tight_layout()\n",
    "plt.subplots_adjust(bottom=0.1, top=0.95, wspace=0.05, hspace=0.25)\n",
    "plt.savefig('training_results.pdf', format='pdf', dpi=500, bbox_extra_artists=(eps,accs,lss), bbox_inches='tight')"
   ]
  },
  {
   "cell_type": "code",
   "execution_count": null,
   "metadata": {},
   "outputs": [],
   "source": []
  }
 ],
 "metadata": {
  "kernelspec": {
   "display_name": "Python 3",
   "language": "python",
   "name": "python3"
  },
  "language_info": {
   "codemirror_mode": {
    "name": "ipython",
    "version": 3
   },
   "file_extension": ".py",
   "mimetype": "text/x-python",
   "name": "python",
   "nbconvert_exporter": "python",
   "pygments_lexer": "ipython3",
   "version": "3.6.9"
  }
 },
 "nbformat": 4,
 "nbformat_minor": 2
}
